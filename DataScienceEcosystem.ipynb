{
 "cells": [
  {
   "cell_type": "markdown",
   "id": "07ed1e88",
   "metadata": {},
   "source": [
    "# \"Data Science Tools and Ecosystem\""
   ]
  },
  {
   "cell_type": "markdown",
   "id": "6006b8b2",
   "metadata": {},
   "source": [
    "`In this notebook, Data Science Tools and Ecosystem are summarized.`"
   ]
  },
  {
   "cell_type": "markdown",
   "id": "12333a7f",
   "metadata": {},
   "source": [
    "**Objectives:**\n",
    "- Data Science Languages.\n",
    "- Data Science Libraries\n",
    "- Data Science Tools.\n",
    "- Arithmetic Expressions.\n",
    "- Code for Multiplication and Addition.\n",
    "- Code for Conversion from Minutes to Hours."
   ]
  },
  {
   "cell_type": "markdown",
   "id": "4b180452",
   "metadata": {},
   "source": [
    "**A markdown cell to list data science languages**\n",
    "1. Python\n",
    "2. R\n",
    "3. SQL\n",
    "4. Julia\n",
    "5. Scala\n",
    "6. MATLAB\n",
    "7. Java\n",
    "8. C/C++\n",
    "9. Julia"
   ]
  },
  {
   "cell_type": "markdown",
   "id": "05a36086",
   "metadata": {},
   "source": [
    "**A markdown cell to list data science libraries.**\n",
    "1. NumPy\n",
    "2. pandas\n",
    "3. scikit\n",
    "4. TensorFlow\n",
    "5. PyTorch\n",
    "6. Matplotlib\n",
    "7. seaborn\n",
    "8. SciPy"
   ]
  },
  {
   "cell_type": "markdown",
   "id": "9e1e5081",
   "metadata": {},
   "source": [
    "**A markdown cell with a table of Data Science tools.**\n",
    "\n",
    "| Data Science Tools |\n",
    "| -------------------|\n",
    "| Jupyter Notebook   | \n",
    "| Anaconda           | \n",
    "| RStudio            | \n",
    "| Apache Hadoop      | \n",
    "| Apache Spark       | \n",
    "| Tableau            |\n",
    "| Git                |"
   ]
  },
  {
   "cell_type": "markdown",
   "id": "b63a2130",
   "metadata": {},
   "source": [
    "### Below are a few examples of evaluating arithmetic expressions in Python.\n",
    "1. `+` example `1+1=2`\n",
    "2. `-` example `1-1=0`\n",
    "3. `*` example `2*2=4`\n",
    "4. `/` example `2/2=1`"
   ]
  },
  {
   "cell_type": "code",
   "execution_count": 1,
   "id": "5ad9b571",
   "metadata": {},
   "outputs": [
    {
     "name": "stdout",
     "output_type": "stream",
     "text": [
      "17\n"
     ]
    }
   ],
   "source": [
    "# This a simple arithmetic expression to mutiply then add integers\n",
    "print((3*4)+5)"
   ]
  },
  {
   "cell_type": "code",
   "execution_count": 2,
   "id": "eb7109ce",
   "metadata": {},
   "outputs": [
    {
     "name": "stdout",
     "output_type": "stream",
     "text": [
      "200 minutes is equal to 3 hours and 20 minutes.\n"
     ]
    }
   ],
   "source": [
    "# This will convert 200 minutes to hours by diving by 60.\n",
    "minutes = 200\n",
    "hours = minutes // 60\n",
    "mins = minutes%60\n",
    "print(f\"{minutes} minutes is equal to {hours} hours and {mins} minutes.\")"
   ]
  },
  {
   "cell_type": "markdown",
   "id": "eb790268",
   "metadata": {},
   "source": [
    "## Author \n",
    "Urvash Shende"
   ]
  }
 ],
 "metadata": {
  "kernelspec": {
   "display_name": "Python 3 (ipykernel)",
   "language": "python",
   "name": "python3"
  },
  "language_info": {
   "codemirror_mode": {
    "name": "ipython",
    "version": 3
   },
   "file_extension": ".py",
   "mimetype": "text/x-python",
   "name": "python",
   "nbconvert_exporter": "python",
   "pygments_lexer": "ipython3",
   "version": "3.11.1"
  }
 },
 "nbformat": 4,
 "nbformat_minor": 5
}
